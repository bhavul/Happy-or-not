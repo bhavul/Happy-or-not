{
 "cells": [
  {
   "cell_type": "markdown",
   "metadata": {},
   "source": [
    "# Happy or not?"
   ]
  },
  {
   "cell_type": "markdown",
   "metadata": {},
   "source": [
    "I'll be using transfer learning with keras, to find out if a certain image depicts a happy person or not. There might be better or more efficient approaches to doing this, and maybe this turns out to be overkill. However, I wish to know if this would work well. \n",
    "I'll be using pre-trained inception model v3 and add a couple of FC layers at the end to check how well it does. \n",
    "For this I have a dataset of about 250 images scrapped off the internet. I would suggest you to not use google since it is biased in the sense you would not get asians or indians pictures in the pool. Bing is better. Best would be instagram. "
   ]
  },
  {
   "cell_type": "code",
   "execution_count": 1,
   "metadata": {},
   "outputs": [],
   "source": [
    "import numpy as np\n",
    "import pandas as pd\n",
    "import h5py\n",
    "\n",
    "import os, cv2, random\n",
    "from sklearn.model_selection import train_test_split\n",
    "from sklearn.preprocessing import LabelEncoder\n",
    "\n",
    "import matplotlib.pyplot as plt\n",
    "from matplotlib import ticker\n",
    "%matplotlib inline "
   ]
  },
  {
   "cell_type": "code",
   "execution_count": 2,
   "metadata": {},
   "outputs": [
    {
     "name": "stderr",
     "output_type": "stream",
     "text": [
      "Using TensorFlow backend.\n",
      "/home/paperspace/anaconda3/lib/python3.6/importlib/_bootstrap.py:205: RuntimeWarning: compiletime version 3.5 of module 'tensorflow.python.framework.fast_tensor_util' does not match runtime version 3.6\n",
      "  return f(*args, **kwds)\n"
     ]
    }
   ],
   "source": [
    "from keras.models import Sequential\n",
    "from keras.layers import Dense, Activation, GlobalAveragePooling2D, MaxPooling2D\n",
    "from keras.optimizers import SGD\n",
    "from keras.utils import np_utils\n",
    "\n",
    "# First attempt will be with the inception v3 model\n",
    "from keras.applications.inception_v3 import InceptionV3\n",
    "from keras.preprocessing import image\n",
    "from keras.models import Model\n",
    "from keras import backend as K"
   ]
  },
  {
   "cell_type": "code",
   "execution_count": 3,
   "metadata": {},
   "outputs": [],
   "source": [
    "TRAIN_DIR = './dataset/'\n",
    "CLASSES = ['happy', 'nothappy']\n",
    "\n",
    "# Image dimentions for resizing:\n",
    "ROWS = 299  # Default input of inception v3 \n",
    "COLS = 299 # Default input of inception v3 \n",
    "CHANNELS = 3"
   ]
  },
  {
   "cell_type": "code",
   "execution_count": 4,
   "metadata": {},
   "outputs": [
    {
     "name": "stdout",
     "output_type": "stream",
     "text": [
      "256 photos of happy\n",
      "190 photos of nothappy\n"
     ]
    }
   ],
   "source": [
    "def get_images(emotion):\n",
    "    \"\"\"Load files from train folder\"\"\"\n",
    "    emotion_dir = TRAIN_DIR+'{}'.format(emotion)\n",
    "    images = [emotion+'/'+im for im in os.listdir(emotion_dir)]\n",
    "    return images\n",
    "\n",
    "def read_image(src):\n",
    "    \"\"\"Read and resize individual images\"\"\"\n",
    "    im = cv2.imread(src, cv2.IMREAD_COLOR)\n",
    "    im = cv2.resize(im, (COLS, ROWS), interpolation=cv2.INTER_CUBIC)\n",
    "    return im\n",
    "\n",
    "\n",
    "files = []\n",
    "y_all = []\n",
    "\n",
    "for emotion in CLASSES:\n",
    "    emotion_files = get_images(emotion)\n",
    "    files.extend(emotion_files)\n",
    "    \n",
    "    y_emotion = np.tile(emotion, len(emotion_files))\n",
    "    y_all.extend(y_emotion)\n",
    "    print(\"{0} photos of {1}\".format(len(emotion_files), emotion))\n",
    "    \n",
    "y_all = np.array(y_all)"
   ]
  },
  {
   "cell_type": "code",
   "execution_count": 5,
   "metadata": {},
   "outputs": [],
   "source": [
    "X_all = np.ndarray((len(files), ROWS, COLS, CHANNELS), dtype=np.uint8)"
   ]
  },
  {
   "cell_type": "code",
   "execution_count": 6,
   "metadata": {},
   "outputs": [
    {
     "name": "stdout",
     "output_type": "stream",
     "text": [
      "Processed 0 of 446\n",
      "(446, 299, 299, 3)\n"
     ]
    }
   ],
   "source": [
    "for i, im in enumerate(files): \n",
    "    X_all[i] = read_image(TRAIN_DIR+im)\n",
    "    if i%1000 == 0: print('Processed {} of {}'.format(i, len(files)))\n",
    "\n",
    "print(X_all.shape)"
   ]
  },
  {
   "cell_type": "code",
   "execution_count": 7,
   "metadata": {},
   "outputs": [
    {
     "data": {
      "text/plain": [
       "array(['happy', 'happy', 'happy', 'happy', 'happy', 'happy', 'happy',\n",
       "       'happy', 'happy', 'happy', 'happy', 'happy', 'happy', 'happy',\n",
       "       'happy', 'happy', 'happy', 'happy', 'happy', 'happy', 'happy',\n",
       "       'happy', 'happy', 'happy', 'happy', 'happy', 'happy', 'happy',\n",
       "       'happy', 'happy', 'happy', 'happy', 'happy', 'happy', 'happy',\n",
       "       'happy', 'happy', 'happy', 'happy', 'happy', 'happy', 'happy',\n",
       "       'happy', 'happy', 'happy', 'happy', 'happy', 'happy', 'happy',\n",
       "       'happy', 'happy', 'happy', 'happy', 'happy', 'happy', 'happy',\n",
       "       'happy', 'happy', 'happy', 'happy', 'happy', 'happy', 'happy',\n",
       "       'happy', 'happy', 'happy', 'happy', 'happy', 'happy', 'happy',\n",
       "       'happy', 'happy', 'happy', 'happy', 'happy', 'happy', 'happy',\n",
       "       'happy', 'happy', 'happy', 'happy', 'happy', 'happy', 'happy',\n",
       "       'happy', 'happy', 'happy', 'happy', 'happy', 'happy', 'happy',\n",
       "       'happy', 'happy', 'happy', 'happy', 'happy', 'happy', 'happy',\n",
       "       'happy', 'happy', 'happy', 'happy', 'happy', 'happy', 'happy',\n",
       "       'happy', 'happy', 'happy', 'happy', 'happy', 'happy', 'happy',\n",
       "       'happy', 'happy', 'happy', 'happy', 'happy', 'happy', 'happy',\n",
       "       'happy', 'happy', 'happy', 'happy', 'happy', 'happy', 'happy',\n",
       "       'happy', 'happy', 'happy', 'happy', 'happy', 'happy', 'happy',\n",
       "       'happy', 'happy', 'happy', 'happy', 'happy', 'happy', 'happy',\n",
       "       'happy', 'happy', 'happy', 'happy', 'happy', 'happy', 'happy',\n",
       "       'happy', 'happy', 'happy', 'happy', 'happy', 'happy', 'happy',\n",
       "       'happy', 'happy', 'happy', 'happy', 'happy', 'happy', 'happy',\n",
       "       'happy', 'happy', 'happy', 'happy', 'happy', 'happy', 'happy',\n",
       "       'happy', 'happy', 'happy', 'happy', 'happy', 'happy', 'happy',\n",
       "       'happy', 'happy', 'happy', 'happy', 'happy', 'happy', 'happy',\n",
       "       'happy', 'happy', 'happy', 'happy', 'happy', 'happy', 'happy',\n",
       "       'happy', 'happy', 'happy', 'happy', 'happy', 'happy', 'happy',\n",
       "       'happy', 'happy', 'happy', 'happy', 'happy', 'happy', 'happy',\n",
       "       'happy', 'happy', 'happy', 'happy', 'happy', 'happy', 'happy',\n",
       "       'happy', 'happy', 'happy', 'happy', 'happy', 'happy', 'happy',\n",
       "       'happy', 'happy', 'happy', 'happy', 'happy', 'happy', 'happy',\n",
       "       'happy', 'happy', 'happy', 'happy', 'happy', 'happy', 'happy',\n",
       "       'happy', 'happy', 'happy', 'happy', 'happy', 'happy', 'happy',\n",
       "       'happy', 'happy', 'happy', 'happy', 'happy', 'happy', 'happy',\n",
       "       'happy', 'happy', 'happy', 'happy', 'happy', 'happy', 'happy',\n",
       "       'happy', 'happy', 'happy', 'happy', 'nothappy', 'nothappy',\n",
       "       'nothappy', 'nothappy', 'nothappy', 'nothappy', 'nothappy',\n",
       "       'nothappy', 'nothappy', 'nothappy', 'nothappy', 'nothappy',\n",
       "       'nothappy', 'nothappy', 'nothappy', 'nothappy', 'nothappy',\n",
       "       'nothappy', 'nothappy', 'nothappy', 'nothappy', 'nothappy',\n",
       "       'nothappy', 'nothappy', 'nothappy', 'nothappy', 'nothappy',\n",
       "       'nothappy', 'nothappy', 'nothappy', 'nothappy', 'nothappy',\n",
       "       'nothappy', 'nothappy', 'nothappy', 'nothappy', 'nothappy',\n",
       "       'nothappy', 'nothappy', 'nothappy', 'nothappy', 'nothappy',\n",
       "       'nothappy', 'nothappy', 'nothappy', 'nothappy', 'nothappy',\n",
       "       'nothappy', 'nothappy', 'nothappy', 'nothappy', 'nothappy',\n",
       "       'nothappy', 'nothappy', 'nothappy', 'nothappy', 'nothappy',\n",
       "       'nothappy', 'nothappy', 'nothappy', 'nothappy', 'nothappy',\n",
       "       'nothappy', 'nothappy', 'nothappy', 'nothappy', 'nothappy',\n",
       "       'nothappy', 'nothappy', 'nothappy', 'nothappy', 'nothappy',\n",
       "       'nothappy', 'nothappy', 'nothappy', 'nothappy', 'nothappy',\n",
       "       'nothappy', 'nothappy', 'nothappy', 'nothappy', 'nothappy',\n",
       "       'nothappy', 'nothappy', 'nothappy', 'nothappy', 'nothappy',\n",
       "       'nothappy', 'nothappy', 'nothappy', 'nothappy', 'nothappy',\n",
       "       'nothappy', 'nothappy', 'nothappy', 'nothappy', 'nothappy',\n",
       "       'nothappy', 'nothappy', 'nothappy', 'nothappy', 'nothappy',\n",
       "       'nothappy', 'nothappy', 'nothappy', 'nothappy', 'nothappy',\n",
       "       'nothappy', 'nothappy', 'nothappy', 'nothappy', 'nothappy',\n",
       "       'nothappy', 'nothappy', 'nothappy', 'nothappy', 'nothappy',\n",
       "       'nothappy', 'nothappy', 'nothappy', 'nothappy', 'nothappy',\n",
       "       'nothappy', 'nothappy', 'nothappy', 'nothappy', 'nothappy',\n",
       "       'nothappy', 'nothappy', 'nothappy', 'nothappy', 'nothappy',\n",
       "       'nothappy', 'nothappy', 'nothappy', 'nothappy', 'nothappy',\n",
       "       'nothappy', 'nothappy', 'nothappy', 'nothappy', 'nothappy',\n",
       "       'nothappy', 'nothappy', 'nothappy', 'nothappy', 'nothappy',\n",
       "       'nothappy', 'nothappy', 'nothappy', 'nothappy', 'nothappy',\n",
       "       'nothappy', 'nothappy', 'nothappy', 'nothappy', 'nothappy',\n",
       "       'nothappy', 'nothappy', 'nothappy', 'nothappy', 'nothappy',\n",
       "       'nothappy', 'nothappy', 'nothappy', 'nothappy', 'nothappy',\n",
       "       'nothappy', 'nothappy', 'nothappy', 'nothappy', 'nothappy',\n",
       "       'nothappy', 'nothappy', 'nothappy', 'nothappy', 'nothappy',\n",
       "       'nothappy', 'nothappy', 'nothappy', 'nothappy', 'nothappy',\n",
       "       'nothappy', 'nothappy', 'nothappy', 'nothappy', 'nothappy',\n",
       "       'nothappy', 'nothappy', 'nothappy'],\n",
       "      dtype='<U8')"
      ]
     },
     "execution_count": 7,
     "metadata": {},
     "output_type": "execute_result"
    }
   ],
   "source": [
    "y_all"
   ]
  },
  {
   "cell_type": "code",
   "execution_count": 8,
   "metadata": {},
   "outputs": [],
   "source": [
    "y_all = LabelEncoder().fit_transform(y_all)"
   ]
  },
  {
   "cell_type": "code",
   "execution_count": 9,
   "metadata": {},
   "outputs": [],
   "source": [
    "y_all = np_utils.to_categorical(y_all)"
   ]
  },
  {
   "cell_type": "code",
   "execution_count": 19,
   "metadata": {},
   "outputs": [],
   "source": [
    "X_train, X_valid, y_train, y_valid = train_test_split(X_all, y_all, \n",
    "                                                    test_size=0.05, random_state=23, \n",
    "                                                    stratify=y_all)"
   ]
  },
  {
   "cell_type": "code",
   "execution_count": 20,
   "metadata": {},
   "outputs": [
    {
     "data": {
      "text/plain": [
       "(423, 299, 299, 3)"
      ]
     },
     "execution_count": 20,
     "metadata": {},
     "output_type": "execute_result"
    }
   ],
   "source": [
    "X_train.shape"
   ]
  },
  {
   "cell_type": "code",
   "execution_count": 21,
   "metadata": {},
   "outputs": [
    {
     "data": {
      "text/plain": [
       "(423, 2)"
      ]
     },
     "execution_count": 21,
     "metadata": {},
     "output_type": "execute_result"
    }
   ],
   "source": [
    "y_train.shape"
   ]
  },
  {
   "cell_type": "code",
   "execution_count": 22,
   "metadata": {},
   "outputs": [
    {
     "data": {
      "text/plain": [
       "(23, 299, 299, 3)"
      ]
     },
     "execution_count": 22,
     "metadata": {},
     "output_type": "execute_result"
    }
   ],
   "source": [
    "X_valid.shape"
   ]
  },
  {
   "cell_type": "code",
   "execution_count": 14,
   "metadata": {},
   "outputs": [],
   "source": [
    "# Remember that as a part of the preprocessing we have already scaled down the images to fit\n",
    "# the inception model input requirements.\n",
    "\n",
    "# create the base pre-trained model from Keras library\n",
    "base_model = InceptionV3(weights='imagenet', include_top=False) #change weights to 'imagenet' on your local build"
   ]
  },
  {
   "cell_type": "code",
   "execution_count": 15,
   "metadata": {},
   "outputs": [
    {
     "name": "stdout",
     "output_type": "stream",
     "text": [
      "1.4.0\n"
     ]
    }
   ],
   "source": [
    "import tensorflow as tf\n",
    "print(tf.__version__)"
   ]
  },
  {
   "cell_type": "code",
   "execution_count": 16,
   "metadata": {},
   "outputs": [],
   "source": [
    "x = base_model.output\n",
    "x = GlobalAveragePooling2D()(x)\n",
    "# let's add a fully-connected layer\n",
    "x = Dense(1024, activation='relu')(x)\n",
    "\n",
    "# and a logistic layer for the FISH_CLASSES = 8 we are trying to predict\n",
    "predictions = Dense(len(CLASSES), activation='softmax', name='prediction_layer')(x)\n",
    "\n",
    "# this is the model we will train\n",
    "model = Model(inputs=base_model.input, outputs=predictions)"
   ]
  },
  {
   "cell_type": "code",
   "execution_count": 17,
   "metadata": {},
   "outputs": [],
   "source": [
    "# we chose to train the top 2 inception blocks, i.e. we will freeze\n",
    "# the first N layers and unfreeze the rest:\n",
    "\n",
    "N=172\n",
    "\n",
    "for layer in model.layers[:N]:\n",
    "    layer.trainable = False\n",
    "for layer in model.layers[N:]:\n",
    "    layer.trainable = True"
   ]
  },
  {
   "cell_type": "code",
   "execution_count": 18,
   "metadata": {},
   "outputs": [],
   "source": [
    "# we need to recompile the model for these modifications to take effect\n",
    "# we use SGD with a low learning rate\n",
    "model.compile(optimizer='adam', loss='categorical_crossentropy', metrics=['accuracy'])"
   ]
  },
  {
   "cell_type": "code",
   "execution_count": 23,
   "metadata": {},
   "outputs": [
    {
     "name": "stdout",
     "output_type": "stream",
     "text": [
      "Train on 338 samples, validate on 85 samples\n",
      "Epoch 1/30\n",
      "338/338 [==============================] - 19s - loss: 0.8941 - acc: 0.6746 - val_loss: 7.7746 - val_acc: 0.5176\n",
      "Epoch 2/30\n",
      "338/338 [==============================] - 8s - loss: 0.2909 - acc: 0.8817 - val_loss: 7.7299 - val_acc: 0.5176\n",
      "Epoch 3/30\n",
      "338/338 [==============================] - 8s - loss: 0.1001 - acc: 0.9615 - val_loss: 5.8976 - val_acc: 0.5176\n",
      "Epoch 4/30\n",
      "338/338 [==============================] - 8s - loss: 0.0791 - acc: 0.9763 - val_loss: 7.7746 - val_acc: 0.5176\n",
      "Epoch 5/30\n",
      "338/338 [==============================] - 8s - loss: 0.1343 - acc: 0.9408 - val_loss: 7.7265 - val_acc: 0.5059\n",
      "Epoch 6/30\n",
      "338/338 [==============================] - 8s - loss: 0.1742 - acc: 0.9349 - val_loss: 7.7746 - val_acc: 0.5176\n",
      "Epoch 7/30\n",
      "338/338 [==============================] - 8s - loss: 0.0821 - acc: 0.9763 - val_loss: 3.7482 - val_acc: 0.6588\n",
      "Epoch 8/30\n",
      "338/338 [==============================] - 8s - loss: 0.0216 - acc: 0.9941 - val_loss: 2.5761 - val_acc: 0.7647\n",
      "Epoch 9/30\n",
      "338/338 [==============================] - 8s - loss: 0.0698 - acc: 0.9763 - val_loss: 2.1785 - val_acc: 0.7882\n",
      "Epoch 10/30\n",
      "338/338 [==============================] - 8s - loss: 0.0101 - acc: 0.9970 - val_loss: 1.5589 - val_acc: 0.8000\n",
      "Epoch 11/30\n",
      "338/338 [==============================] - 8s - loss: 0.0147 - acc: 0.9941 - val_loss: 2.3302 - val_acc: 0.7882\n",
      "Epoch 12/30\n",
      "338/338 [==============================] - 8s - loss: 0.0571 - acc: 0.9822 - val_loss: 7.2678 - val_acc: 0.4941\n",
      "Epoch 13/30\n",
      "338/338 [==============================] - 8s - loss: 0.2657 - acc: 0.9112 - val_loss: 7.6453 - val_acc: 0.5176\n",
      "Epoch 14/30\n",
      "338/338 [==============================] - 8s - loss: 0.1885 - acc: 0.9260 - val_loss: 7.6144 - val_acc: 0.5176\n",
      "Epoch 15/30\n",
      "338/338 [==============================] - 8s - loss: 0.0455 - acc: 0.9852 - val_loss: 6.9155 - val_acc: 0.5294\n",
      "Epoch 16/30\n",
      "338/338 [==============================] - 8s - loss: 0.0098 - acc: 1.0000 - val_loss: 6.1841 - val_acc: 0.5294\n",
      "Epoch 17/30\n",
      "338/338 [==============================] - 8s - loss: 0.0484 - acc: 0.9882 - val_loss: 6.3162 - val_acc: 0.5412\n",
      "Epoch 18/30\n",
      "338/338 [==============================] - 8s - loss: 0.0971 - acc: 0.9645 - val_loss: 7.3940 - val_acc: 0.5176\n",
      "Epoch 19/30\n",
      "338/338 [==============================] - 8s - loss: 0.0821 - acc: 0.9704 - val_loss: 5.4582 - val_acc: 0.5765\n",
      "Epoch 20/30\n",
      "338/338 [==============================] - 8s - loss: 0.0330 - acc: 0.9911 - val_loss: 4.6651 - val_acc: 0.6118\n",
      "Epoch 21/30\n",
      "338/338 [==============================] - 8s - loss: 0.0859 - acc: 0.9675 - val_loss: 3.4921 - val_acc: 0.6706\n",
      "Epoch 22/30\n",
      "338/338 [==============================] - 8s - loss: 0.0511 - acc: 0.9911 - val_loss: 2.5405 - val_acc: 0.7529\n",
      "Epoch 23/30\n",
      "338/338 [==============================] - 8s - loss: 0.0210 - acc: 0.9911 - val_loss: 2.4801 - val_acc: 0.7529\n",
      "Epoch 24/30\n",
      "338/338 [==============================] - 8s - loss: 0.0519 - acc: 0.9882 - val_loss: 2.2893 - val_acc: 0.7294\n",
      "Epoch 25/30\n",
      "338/338 [==============================] - 8s - loss: 0.1074 - acc: 0.9645 - val_loss: 1.1223 - val_acc: 0.8353\n",
      "Epoch 26/30\n",
      "338/338 [==============================] - 8s - loss: 0.0417 - acc: 0.9882 - val_loss: 1.7681 - val_acc: 0.7882\n",
      "Epoch 27/30\n",
      "338/338 [==============================] - 8s - loss: 0.0335 - acc: 0.9911 - val_loss: 0.9308 - val_acc: 0.8353\n",
      "Epoch 28/30\n",
      "338/338 [==============================] - 8s - loss: 0.0062 - acc: 1.0000 - val_loss: 0.7673 - val_acc: 0.8471\n",
      "Epoch 29/30\n",
      "338/338 [==============================] - 8s - loss: 0.0109 - acc: 0.9970 - val_loss: 0.7927 - val_acc: 0.8588\n",
      "Epoch 30/30\n",
      "338/338 [==============================] - 8s - loss: 0.0267 - acc: 0.9882 - val_loss: 0.8979 - val_acc: 0.8353\n"
     ]
    },
    {
     "data": {
      "text/plain": [
       "<keras.callbacks.History at 0x7f0a6201f2e8>"
      ]
     },
     "execution_count": 23,
     "metadata": {},
     "output_type": "execute_result"
    }
   ],
   "source": [
    "model.fit(X_train, y_train, batch_size=25, epochs=10,\n",
    "              validation_split=0.2, verbose=1, shuffle=True)"
   ]
  },
  {
   "cell_type": "code",
   "execution_count": 24,
   "metadata": {},
   "outputs": [
    {
     "name": "stdout",
     "output_type": "stream",
     "text": [
      "23/23 [==============================] - 1s     \n",
      "Validation Logloss:  [0.96461069922288123, 0.82608696688776428]\n"
     ]
    }
   ],
   "source": [
    "loss_and_metrics = model.evaluate(X_valid, y_valid, batch_size=20)\n",
    "print (\"Validation Logloss: \", loss_and_metrics)"
   ]
  },
  {
   "cell_type": "code",
   "execution_count": 25,
   "metadata": {},
   "outputs": [
    {
     "data": {
      "text/plain": [
       "['.ipynb_checkpoints',\n",
       " 'happy-group.jpg',\n",
       " 'sad-baby-crying.jpg',\n",
       " 'sad-bearded-man.jpg',\n",
       " 'happy-lady.jpg',\n",
       " 'sad-kid-crying.jpg',\n",
       " 'o-david-cameron-sad-facebook.jpg',\n",
       " 'sad-baby-heartbroken.jpg']"
      ]
     },
     "execution_count": 25,
     "metadata": {},
     "output_type": "execute_result"
    }
   ],
   "source": [
    "TEST_DIR = './test/'\n",
    "os.listdir(TEST_DIR)"
   ]
  },
  {
   "cell_type": "code",
   "execution_count": 26,
   "metadata": {},
   "outputs": [
    {
     "data": {
      "text/plain": [
       "(7, 299, 299, 3)"
      ]
     },
     "execution_count": 26,
     "metadata": {},
     "output_type": "execute_result"
    }
   ],
   "source": [
    "\n",
    "test_files = [im for im in os.listdir(TEST_DIR) if im.endswith('jpg')]\n",
    "test = np.ndarray((len(test_files), ROWS, COLS, CHANNELS), dtype=np.uint8)\n",
    "\n",
    "for i, im in enumerate(test_files): \n",
    "    test[i] = read_image(TEST_DIR+im)\n",
    "\n",
    "test.shape"
   ]
  },
  {
   "cell_type": "code",
   "execution_count": 27,
   "metadata": {},
   "outputs": [
    {
     "name": "stdout",
     "output_type": "stream",
     "text": [
      "7/7 [==============================] - 1s\n"
     ]
    }
   ],
   "source": [
    "test_preds = model.predict(test, verbose=1)"
   ]
  },
  {
   "cell_type": "code",
   "execution_count": 28,
   "metadata": {},
   "outputs": [
    {
     "data": {
      "text/plain": [
       "array([[  9.78325188e-01,   2.16747858e-02],\n",
       "       [  7.65615329e-02,   9.23438430e-01],\n",
       "       [  9.99880626e-07,   9.99999046e-01],\n",
       "       [  2.46208856e-05,   9.99975324e-01],\n",
       "       [  2.58152359e-05,   9.99974132e-01],\n",
       "       [  2.87356641e-04,   9.99712646e-01],\n",
       "       [  1.15130991e-01,   8.84869039e-01]], dtype=float32)"
      ]
     },
     "execution_count": 28,
     "metadata": {},
     "output_type": "execute_result"
    }
   ],
   "source": [
    "test_preds"
   ]
  },
  {
   "cell_type": "code",
   "execution_count": 29,
   "metadata": {},
   "outputs": [
    {
     "data": {
      "text/html": [
       "<div>\n",
       "<style>\n",
       "    .dataframe thead tr:only-child th {\n",
       "        text-align: right;\n",
       "    }\n",
       "\n",
       "    .dataframe thead th {\n",
       "        text-align: left;\n",
       "    }\n",
       "\n",
       "    .dataframe tbody tr th {\n",
       "        vertical-align: top;\n",
       "    }\n",
       "</style>\n",
       "<table border=\"1\" class=\"dataframe\">\n",
       "  <thead>\n",
       "    <tr style=\"text-align: right;\">\n",
       "      <th></th>\n",
       "      <th>image</th>\n",
       "      <th>happy</th>\n",
       "      <th>nothappy</th>\n",
       "    </tr>\n",
       "  </thead>\n",
       "  <tbody>\n",
       "    <tr>\n",
       "      <th>0</th>\n",
       "      <td>happy-group.jpg</td>\n",
       "      <td>9.783252e-01</td>\n",
       "      <td>0.021675</td>\n",
       "    </tr>\n",
       "    <tr>\n",
       "      <th>1</th>\n",
       "      <td>sad-baby-crying.jpg</td>\n",
       "      <td>7.656153e-02</td>\n",
       "      <td>0.923438</td>\n",
       "    </tr>\n",
       "    <tr>\n",
       "      <th>2</th>\n",
       "      <td>sad-bearded-man.jpg</td>\n",
       "      <td>9.998806e-07</td>\n",
       "      <td>0.999999</td>\n",
       "    </tr>\n",
       "    <tr>\n",
       "      <th>3</th>\n",
       "      <td>happy-lady.jpg</td>\n",
       "      <td>2.462089e-05</td>\n",
       "      <td>0.999975</td>\n",
       "    </tr>\n",
       "    <tr>\n",
       "      <th>4</th>\n",
       "      <td>sad-kid-crying.jpg</td>\n",
       "      <td>2.581524e-05</td>\n",
       "      <td>0.999974</td>\n",
       "    </tr>\n",
       "  </tbody>\n",
       "</table>\n",
       "</div>"
      ],
      "text/plain": [
       "                 image         happy  nothappy\n",
       "0      happy-group.jpg  9.783252e-01  0.021675\n",
       "1  sad-baby-crying.jpg  7.656153e-02  0.923438\n",
       "2  sad-bearded-man.jpg  9.998806e-07  0.999999\n",
       "3       happy-lady.jpg  2.462089e-05  0.999975\n",
       "4   sad-kid-crying.jpg  2.581524e-05  0.999974"
      ]
     },
     "execution_count": 29,
     "metadata": {},
     "output_type": "execute_result"
    }
   ],
   "source": [
    "submission = pd.DataFrame(test_preds, columns=CLASSES)\n",
    "submission.insert(0, 'image', test_files)\n",
    "submission.head()"
   ]
  },
  {
   "cell_type": "markdown",
   "metadata": {},
   "source": [
    "So, as we see, the results are good. They would be even better if we train for more epochs. :-)"
   ]
  },
  {
   "cell_type": "markdown",
   "metadata": {},
   "source": [
    "**Let's save the model, so we could deploy the current version**"
   ]
  },
  {
   "cell_type": "code",
   "execution_count": 30,
   "metadata": {},
   "outputs": [],
   "source": [
    "model.save('./happy-or-not-v1.h5')"
   ]
  },
  {
   "cell_type": "code",
   "execution_count": null,
   "metadata": {},
   "outputs": [],
   "source": []
  }
 ],
 "metadata": {
  "kernelspec": {
   "display_name": "Python 3",
   "language": "python",
   "name": "python3"
  },
  "language_info": {
   "codemirror_mode": {
    "name": "ipython",
    "version": 3
   },
   "file_extension": ".py",
   "mimetype": "text/x-python",
   "name": "python",
   "nbconvert_exporter": "python",
   "pygments_lexer": "ipython3",
   "version": "3.6.2"
  }
 },
 "nbformat": 4,
 "nbformat_minor": 2
}
