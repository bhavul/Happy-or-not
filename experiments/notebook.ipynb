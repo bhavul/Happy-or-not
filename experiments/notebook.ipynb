{
 "cells": [
  {
   "cell_type": "markdown",
   "metadata": {},
   "source": [
    "# Happy or not?"
   ]
  },
  {
   "cell_type": "markdown",
   "metadata": {},
   "source": [
    "I'll be using transfer learning with keras, to find out if a certain image depicts a happy person or not. There might be better or more efficient approaches to doing this, and maybe this turns out to be overkill. However, I wish to know if this would work well. \n",
    "I'll be using pre-trained inception model v3 and add a couple of FC layers at the end to check how well it does. \n",
    "For this I have a dataset of about 250 images scrapped off the internet. I would suggest you to not use google since it is biased in the sense you would not get asians or indians pictures in the pool. Bing is better. Best would be instagram. "
   ]
  },
  {
   "cell_type": "code",
   "execution_count": 1,
   "metadata": {},
   "outputs": [],
   "source": [
    "import numpy as np\n",
    "import pandas as pd\n",
    "import h5py\n",
    "\n",
    "import os, cv2, random\n",
    "from sklearn.model_selection import train_test_split\n",
    "from sklearn.preprocessing import LabelEncoder\n",
    "\n",
    "import matplotlib.pyplot as plt\n",
    "from matplotlib import ticker\n",
    "%matplotlib inline "
   ]
  },
  {
   "cell_type": "code",
   "execution_count": 2,
   "metadata": {},
   "outputs": [
    {
     "name": "stderr",
     "output_type": "stream",
     "text": [
      "Using TensorFlow backend.\n",
      "/home/paperspace/anaconda3/lib/python3.6/importlib/_bootstrap.py:205: RuntimeWarning: compiletime version 3.5 of module 'tensorflow.python.framework.fast_tensor_util' does not match runtime version 3.6\n",
      "  return f(*args, **kwds)\n"
     ]
    }
   ],
   "source": [
    "from keras.models import Sequential\n",
    "from keras.layers import Dense, Activation, GlobalAveragePooling2D, MaxPooling2D\n",
    "from keras.optimizers import SGD\n",
    "from keras.utils import np_utils\n",
    "\n",
    "# First attempt will be with the inception v3 model\n",
    "from keras.applications.inception_v3 import InceptionV3\n",
    "from keras.preprocessing import image\n",
    "from keras.models import Model\n",
    "from keras import backend as K"
   ]
  },
  {
   "cell_type": "code",
   "execution_count": 3,
   "metadata": {},
   "outputs": [],
   "source": [
    "TRAIN_DIR = './dataset/'\n",
    "CLASSES = ['happy', 'nothappy']\n",
    "\n",
    "# Image dimentions for resizing:\n",
    "ROWS = 299  # Default input of inception v3 \n",
    "COLS = 299 # Default input of inception v3 \n",
    "CHANNELS = 3"
   ]
  },
  {
   "cell_type": "code",
   "execution_count": 33,
   "metadata": {},
   "outputs": [
    {
     "name": "stdout",
     "output_type": "stream",
     "text": [
      "256 photos of happy\n",
      "190 photos of nothappy\n"
     ]
    }
   ],
   "source": [
    "def get_images(emotion):\n",
    "    \"\"\"Load files from train folder\"\"\"\n",
    "    emotion_dir = TRAIN_DIR+'{}'.format(emotion)\n",
    "    images = [emotion+'/'+im for im in os.listdir(emotion_dir)]\n",
    "    return images\n",
    "\n",
    "def read_image(src):\n",
    "    \"\"\"Read and resize individual images\"\"\"\n",
    "    im = cv2.imread(src, cv2.IMREAD_COLOR)\n",
    "    im = cv2.resize(im, (COLS, ROWS), interpolation=cv2.INTER_CUBIC)\n",
    "    return im\n",
    "\n",
    "\n",
    "files = []\n",
    "y_all = []\n",
    "\n",
    "for emotion in CLASSES:\n",
    "    emotion_files = get_images(emotion)\n",
    "    files.extend(emotion_files)\n",
    "    \n",
    "    y_emotion = np.tile(emotion, len(emotion_files))\n",
    "    y_all.extend(y_emotion)\n",
    "    print(\"{0} photos of {1}\".format(len(emotion_files), emotion))\n",
    "    \n",
    "y_all = np.array(y_all)"
   ]
  },
  {
   "cell_type": "code",
   "execution_count": 34,
   "metadata": {},
   "outputs": [],
   "source": [
    "X_all = np.ndarray((len(files), ROWS, COLS, CHANNELS), dtype=np.uint8)"
   ]
  },
  {
   "cell_type": "code",
   "execution_count": 35,
   "metadata": {},
   "outputs": [
    {
     "name": "stdout",
     "output_type": "stream",
     "text": [
      "Processed 0 of 446\n",
      "(446, 299, 299, 3)\n"
     ]
    }
   ],
   "source": [
    "for i, im in enumerate(files): \n",
    "    X_all[i] = read_image(TRAIN_DIR+im)\n",
    "    if i%1000 == 0: print('Processed {} of {}'.format(i, len(files)))\n",
    "\n",
    "print(X_all.shape)"
   ]
  },
  {
   "cell_type": "code",
   "execution_count": 36,
   "metadata": {},
   "outputs": [
    {
     "data": {
      "text/plain": [
       "array(['happy', 'happy', 'happy', 'happy', 'happy', 'happy', 'happy',\n",
       "       'happy', 'happy', 'happy', 'happy', 'happy', 'happy', 'happy',\n",
       "       'happy', 'happy', 'happy', 'happy', 'happy', 'happy', 'happy',\n",
       "       'happy', 'happy', 'happy', 'happy', 'happy', 'happy', 'happy',\n",
       "       'happy', 'happy', 'happy', 'happy', 'happy', 'happy', 'happy',\n",
       "       'happy', 'happy', 'happy', 'happy', 'happy', 'happy', 'happy',\n",
       "       'happy', 'happy', 'happy', 'happy', 'happy', 'happy', 'happy',\n",
       "       'happy', 'happy', 'happy', 'happy', 'happy', 'happy', 'happy',\n",
       "       'happy', 'happy', 'happy', 'happy', 'happy', 'happy', 'happy',\n",
       "       'happy', 'happy', 'happy', 'happy', 'happy', 'happy', 'happy',\n",
       "       'happy', 'happy', 'happy', 'happy', 'happy', 'happy', 'happy',\n",
       "       'happy', 'happy', 'happy', 'happy', 'happy', 'happy', 'happy',\n",
       "       'happy', 'happy', 'happy', 'happy', 'happy', 'happy', 'happy',\n",
       "       'happy', 'happy', 'happy', 'happy', 'happy', 'happy', 'happy',\n",
       "       'happy', 'happy', 'happy', 'happy', 'happy', 'happy', 'happy',\n",
       "       'happy', 'happy', 'happy', 'happy', 'happy', 'happy', 'happy',\n",
       "       'happy', 'happy', 'happy', 'happy', 'happy', 'happy', 'happy',\n",
       "       'happy', 'happy', 'happy', 'happy', 'happy', 'happy', 'happy',\n",
       "       'happy', 'happy', 'happy', 'happy', 'happy', 'happy', 'happy',\n",
       "       'happy', 'happy', 'happy', 'happy', 'happy', 'happy', 'happy',\n",
       "       'happy', 'happy', 'happy', 'happy', 'happy', 'happy', 'happy',\n",
       "       'happy', 'happy', 'happy', 'happy', 'happy', 'happy', 'happy',\n",
       "       'happy', 'happy', 'happy', 'happy', 'happy', 'happy', 'happy',\n",
       "       'happy', 'happy', 'happy', 'happy', 'happy', 'happy', 'happy',\n",
       "       'happy', 'happy', 'happy', 'happy', 'happy', 'happy', 'happy',\n",
       "       'happy', 'happy', 'happy', 'happy', 'happy', 'happy', 'happy',\n",
       "       'happy', 'happy', 'happy', 'happy', 'happy', 'happy', 'happy',\n",
       "       'happy', 'happy', 'happy', 'happy', 'happy', 'happy', 'happy',\n",
       "       'happy', 'happy', 'happy', 'happy', 'happy', 'happy', 'happy',\n",
       "       'happy', 'happy', 'happy', 'happy', 'happy', 'happy', 'happy',\n",
       "       'happy', 'happy', 'happy', 'happy', 'happy', 'happy', 'happy',\n",
       "       'happy', 'happy', 'happy', 'happy', 'happy', 'happy', 'happy',\n",
       "       'happy', 'happy', 'happy', 'happy', 'happy', 'happy', 'happy',\n",
       "       'happy', 'happy', 'happy', 'happy', 'happy', 'happy', 'happy',\n",
       "       'happy', 'happy', 'happy', 'happy', 'happy', 'happy', 'happy',\n",
       "       'happy', 'happy', 'happy', 'happy', 'happy', 'happy', 'happy',\n",
       "       'happy', 'happy', 'happy', 'happy', 'nothappy', 'nothappy',\n",
       "       'nothappy', 'nothappy', 'nothappy', 'nothappy', 'nothappy',\n",
       "       'nothappy', 'nothappy', 'nothappy', 'nothappy', 'nothappy',\n",
       "       'nothappy', 'nothappy', 'nothappy', 'nothappy', 'nothappy',\n",
       "       'nothappy', 'nothappy', 'nothappy', 'nothappy', 'nothappy',\n",
       "       'nothappy', 'nothappy', 'nothappy', 'nothappy', 'nothappy',\n",
       "       'nothappy', 'nothappy', 'nothappy', 'nothappy', 'nothappy',\n",
       "       'nothappy', 'nothappy', 'nothappy', 'nothappy', 'nothappy',\n",
       "       'nothappy', 'nothappy', 'nothappy', 'nothappy', 'nothappy',\n",
       "       'nothappy', 'nothappy', 'nothappy', 'nothappy', 'nothappy',\n",
       "       'nothappy', 'nothappy', 'nothappy', 'nothappy', 'nothappy',\n",
       "       'nothappy', 'nothappy', 'nothappy', 'nothappy', 'nothappy',\n",
       "       'nothappy', 'nothappy', 'nothappy', 'nothappy', 'nothappy',\n",
       "       'nothappy', 'nothappy', 'nothappy', 'nothappy', 'nothappy',\n",
       "       'nothappy', 'nothappy', 'nothappy', 'nothappy', 'nothappy',\n",
       "       'nothappy', 'nothappy', 'nothappy', 'nothappy', 'nothappy',\n",
       "       'nothappy', 'nothappy', 'nothappy', 'nothappy', 'nothappy',\n",
       "       'nothappy', 'nothappy', 'nothappy', 'nothappy', 'nothappy',\n",
       "       'nothappy', 'nothappy', 'nothappy', 'nothappy', 'nothappy',\n",
       "       'nothappy', 'nothappy', 'nothappy', 'nothappy', 'nothappy',\n",
       "       'nothappy', 'nothappy', 'nothappy', 'nothappy', 'nothappy',\n",
       "       'nothappy', 'nothappy', 'nothappy', 'nothappy', 'nothappy',\n",
       "       'nothappy', 'nothappy', 'nothappy', 'nothappy', 'nothappy',\n",
       "       'nothappy', 'nothappy', 'nothappy', 'nothappy', 'nothappy',\n",
       "       'nothappy', 'nothappy', 'nothappy', 'nothappy', 'nothappy',\n",
       "       'nothappy', 'nothappy', 'nothappy', 'nothappy', 'nothappy',\n",
       "       'nothappy', 'nothappy', 'nothappy', 'nothappy', 'nothappy',\n",
       "       'nothappy', 'nothappy', 'nothappy', 'nothappy', 'nothappy',\n",
       "       'nothappy', 'nothappy', 'nothappy', 'nothappy', 'nothappy',\n",
       "       'nothappy', 'nothappy', 'nothappy', 'nothappy', 'nothappy',\n",
       "       'nothappy', 'nothappy', 'nothappy', 'nothappy', 'nothappy',\n",
       "       'nothappy', 'nothappy', 'nothappy', 'nothappy', 'nothappy',\n",
       "       'nothappy', 'nothappy', 'nothappy', 'nothappy', 'nothappy',\n",
       "       'nothappy', 'nothappy', 'nothappy', 'nothappy', 'nothappy',\n",
       "       'nothappy', 'nothappy', 'nothappy', 'nothappy', 'nothappy',\n",
       "       'nothappy', 'nothappy', 'nothappy', 'nothappy', 'nothappy',\n",
       "       'nothappy', 'nothappy', 'nothappy', 'nothappy', 'nothappy',\n",
       "       'nothappy', 'nothappy', 'nothappy', 'nothappy', 'nothappy',\n",
       "       'nothappy', 'nothappy', 'nothappy'],\n",
       "      dtype='<U8')"
      ]
     },
     "execution_count": 36,
     "metadata": {},
     "output_type": "execute_result"
    }
   ],
   "source": [
    "y_all"
   ]
  },
  {
   "cell_type": "code",
   "execution_count": 37,
   "metadata": {},
   "outputs": [
    {
     "data": {
      "text/plain": [
       "(446,)"
      ]
     },
     "execution_count": 37,
     "metadata": {},
     "output_type": "execute_result"
    }
   ],
   "source": [
    "y_all = LabelEncoder().fit_transform(y_all)\n",
    "y_all.shape"
   ]
  },
  {
   "cell_type": "code",
   "execution_count": 38,
   "metadata": {},
   "outputs": [
    {
     "data": {
      "text/plain": [
       "0"
      ]
     },
     "execution_count": 38,
     "metadata": {},
     "output_type": "execute_result"
    }
   ],
   "source": [
    "y_all[0]"
   ]
  },
  {
   "cell_type": "code",
   "execution_count": 39,
   "metadata": {},
   "outputs": [
    {
     "data": {
      "text/plain": [
       "array([ 1.,  0.])"
      ]
     },
     "execution_count": 39,
     "metadata": {},
     "output_type": "execute_result"
    }
   ],
   "source": [
    "y_all_cat = np_utils.to_categorical(y_all)\n",
    "y_all_cat[0]"
   ]
  },
  {
   "cell_type": "code",
   "execution_count": 40,
   "metadata": {},
   "outputs": [],
   "source": [
    "X_train, X_valid, y_train, y_valid = train_test_split(X_all, y_all, \n",
    "                                                    test_size=0.2, random_state=23, \n",
    "                                                    stratify=y_all)"
   ]
  },
  {
   "cell_type": "code",
   "execution_count": 41,
   "metadata": {},
   "outputs": [
    {
     "data": {
      "text/plain": [
       "(356, 299, 299, 3)"
      ]
     },
     "execution_count": 41,
     "metadata": {},
     "output_type": "execute_result"
    }
   ],
   "source": [
    "X_train.shape"
   ]
  },
  {
   "cell_type": "code",
   "execution_count": 42,
   "metadata": {},
   "outputs": [
    {
     "data": {
      "text/plain": [
       "(356,)"
      ]
     },
     "execution_count": 42,
     "metadata": {},
     "output_type": "execute_result"
    }
   ],
   "source": [
    "y_train.shape"
   ]
  },
  {
   "cell_type": "code",
   "execution_count": 43,
   "metadata": {},
   "outputs": [
    {
     "data": {
      "text/plain": [
       "(90, 299, 299, 3)"
      ]
     },
     "execution_count": 43,
     "metadata": {},
     "output_type": "execute_result"
    }
   ],
   "source": [
    "X_valid.shape"
   ]
  },
  {
   "cell_type": "code",
   "execution_count": 14,
   "metadata": {},
   "outputs": [],
   "source": [
    "# Remember that as a part of the preprocessing we have already scaled down the images to fit\n",
    "# the inception model input requirements.\n",
    "\n",
    "# create the base pre-trained model from Keras library\n",
    "base_model = InceptionV3(weights='imagenet', include_top=False) #change weights to 'imagenet' on your local build"
   ]
  },
  {
   "cell_type": "code",
   "execution_count": 15,
   "metadata": {},
   "outputs": [
    {
     "name": "stdout",
     "output_type": "stream",
     "text": [
      "1.4.0\n"
     ]
    }
   ],
   "source": [
    "import tensorflow as tf\n",
    "print(tf.__version__)"
   ]
  },
  {
   "cell_type": "code",
   "execution_count": 16,
   "metadata": {},
   "outputs": [],
   "source": [
    "#####################\n",
    "# USING SOFTMAX\n",
    "#####################\n",
    "\n",
    "x = base_model.output\n",
    "x = GlobalAveragePooling2D()(x)\n",
    "# let's add a fully-connected layer\n",
    "x = Dense(1024, activation='relu')(x)\n",
    "\n",
    "# and a logistic layer for the FISH_CLASSES = 8 we are trying to predict\n",
    "predictions = Dense(len(CLASSES), activation='softmax', name='prediction_layer')(x)\n",
    "\n",
    "# this is the model we will train\n",
    "model = Model(inputs=base_model.input, outputs=predictions)\n",
    "\n",
    "\n",
    "# we chose to train the top 2 inception blocks, i.e. we will freeze\n",
    "# the first N layers and unfreeze the rest:\n",
    "\n",
    "N=172\n",
    "\n",
    "for layer in model.layers[:N]:\n",
    "    layer.trainable = False\n",
    "for layer in model.layers[N:]:\n",
    "    layer.trainable = True\n",
    "    \n",
    "# we need to recompile the model for these modifications to take effect\n",
    "# we use SGD with a low learning rate\n",
    "model.compile(optimizer=SGD(lr=0.0001, momentum=0.9), loss='categorical_crossentropy', metrics=['accuracy'])"
   ]
  },
  {
   "cell_type": "code",
   "execution_count": 44,
   "metadata": {},
   "outputs": [],
   "source": [
    "####################\n",
    "# USING SIGMOID\n",
    "####################\n",
    "\n",
    "x = base_model.output\n",
    "x = GlobalAveragePooling2D()(x)\n",
    "# let's add a fully-connected layer\n",
    "x = Dense(1024, activation='relu')(x)\n",
    "x = Dense(512, activation='relu')(x)\n",
    "\n",
    "predictions = Dense(1, activation='sigmoid', name='prediction_layer')(x)\n",
    "\n",
    "# this is the model we will train\n",
    "model = Model(inputs=base_model.input, outputs=predictions)\n",
    "\n",
    "# we chose to train the top 2 inception blocks, i.e. we will freeze\n",
    "# the first N layers and unfreeze the rest:\n",
    "N=172\n",
    "\n",
    "for layer in model.layers[:N]:\n",
    "    layer.trainable = False\n",
    "for layer in model.layers[N:]:\n",
    "    layer.trainable = True\n",
    "    \n",
    "# we need to recompile the model for these modifications to take effect\n",
    "# we use SGD with a low learning rate\n",
    "model.compile(optimizer=SGD(lr=0.0001, momentum=0.9), loss='binary_crossentropy', metrics=['accuracy'])"
   ]
  },
  {
   "cell_type": "code",
   "execution_count": 45,
   "metadata": {},
   "outputs": [
    {
     "data": {
      "text/plain": [
       "315"
      ]
     },
     "execution_count": 45,
     "metadata": {},
     "output_type": "execute_result"
    }
   ],
   "source": [
    "len(model.layers)"
   ]
  },
  {
   "cell_type": "code",
   "execution_count": 46,
   "metadata": {},
   "outputs": [
    {
     "name": "stdout",
     "output_type": "stream",
     "text": [
      "Train on 284 samples, validate on 72 samples\n",
      "Epoch 1/20\n",
      "284/284 [==============================] - 13s - loss: 0.7165 - acc: 0.4542 - val_loss: 0.7079 - val_acc: 0.4444\n",
      "Epoch 2/20\n",
      "284/284 [==============================] - 7s - loss: 0.6603 - acc: 0.6197 - val_loss: 0.6519 - val_acc: 0.7222\n",
      "Epoch 3/20\n",
      "284/284 [==============================] - 7s - loss: 0.6377 - acc: 0.6866 - val_loss: 0.6220 - val_acc: 0.6806\n",
      "Epoch 4/20\n",
      "284/284 [==============================] - 7s - loss: 0.6080 - acc: 0.7465 - val_loss: 0.6036 - val_acc: 0.6944\n",
      "Epoch 5/20\n",
      "284/284 [==============================] - 7s - loss: 0.5848 - acc: 0.8169 - val_loss: 0.5914 - val_acc: 0.7361\n",
      "Epoch 6/20\n",
      "284/284 [==============================] - 7s - loss: 0.5696 - acc: 0.8134 - val_loss: 0.5791 - val_acc: 0.7917\n",
      "Epoch 7/20\n",
      "284/284 [==============================] - 7s - loss: 0.5530 - acc: 0.8415 - val_loss: 0.5631 - val_acc: 0.7917\n",
      "Epoch 8/20\n",
      "284/284 [==============================] - 7s - loss: 0.5337 - acc: 0.8627 - val_loss: 0.5521 - val_acc: 0.8056\n",
      "Epoch 9/20\n",
      "284/284 [==============================] - 7s - loss: 0.5179 - acc: 0.8662 - val_loss: 0.5370 - val_acc: 0.8194\n",
      "Epoch 10/20\n",
      "284/284 [==============================] - 7s - loss: 0.5093 - acc: 0.8451 - val_loss: 0.5287 - val_acc: 0.8194\n",
      "Epoch 11/20\n",
      "284/284 [==============================] - 7s - loss: 0.4852 - acc: 0.8873 - val_loss: 0.5143 - val_acc: 0.8194\n",
      "Epoch 12/20\n",
      "284/284 [==============================] - 7s - loss: 0.4696 - acc: 0.8908 - val_loss: 0.5026 - val_acc: 0.8333\n",
      "Epoch 13/20\n",
      "284/284 [==============================] - 7s - loss: 0.4671 - acc: 0.8732 - val_loss: 0.4897 - val_acc: 0.8333\n",
      "Epoch 14/20\n",
      "284/284 [==============================] - 7s - loss: 0.4416 - acc: 0.8944 - val_loss: 0.4782 - val_acc: 0.8333\n",
      "Epoch 15/20\n",
      "284/284 [==============================] - 7s - loss: 0.4168 - acc: 0.9014 - val_loss: 0.4699 - val_acc: 0.8472\n",
      "Epoch 16/20\n",
      "284/284 [==============================] - 7s - loss: 0.4068 - acc: 0.9120 - val_loss: 0.4611 - val_acc: 0.8472\n",
      "Epoch 17/20\n",
      "284/284 [==============================] - 7s - loss: 0.3805 - acc: 0.9261 - val_loss: 0.4482 - val_acc: 0.8472\n",
      "Epoch 18/20\n",
      "284/284 [==============================] - 7s - loss: 0.3664 - acc: 0.9296 - val_loss: 0.4392 - val_acc: 0.8472\n",
      "Epoch 19/20\n",
      "284/284 [==============================] - 7s - loss: 0.3449 - acc: 0.9472 - val_loss: 0.4297 - val_acc: 0.8472\n",
      "Epoch 20/20\n",
      "284/284 [==============================] - 7s - loss: 0.3411 - acc: 0.9366 - val_loss: 0.4206 - val_acc: 0.8472\n"
     ]
    },
    {
     "data": {
      "text/plain": [
       "<keras.callbacks.History at 0x7fcf811c2828>"
      ]
     },
     "execution_count": 46,
     "metadata": {},
     "output_type": "execute_result"
    }
   ],
   "source": [
    "model.fit(X_train, y_train, batch_size=20, epochs=20,\n",
    "              validation_split=0.2, verbose=1, shuffle=True)"
   ]
  },
  {
   "cell_type": "code",
   "execution_count": 47,
   "metadata": {},
   "outputs": [
    {
     "name": "stdout",
     "output_type": "stream",
     "text": [
      "90/90 [==============================] - 1s     \n",
      "Validation Logloss:  [0.37530223859681022, 0.93333333068423796]\n"
     ]
    }
   ],
   "source": [
    "loss_and_metrics = model.evaluate(X_valid, y_valid, batch_size=20)\n",
    "print (\"Validation Logloss: \", loss_and_metrics)"
   ]
  },
  {
   "cell_type": "code",
   "execution_count": 48,
   "metadata": {},
   "outputs": [
    {
     "data": {
      "text/plain": [
       "['happy-group.jpg',\n",
       " 'sad-baby-crying.jpg',\n",
       " 'sad-bearded-man.jpg',\n",
       " 'happy-lady.jpg',\n",
       " 'sad-kid-crying.jpg',\n",
       " 'o-david-cameron-sad-facebook.jpg',\n",
       " 'sad-baby-heartbroken.jpg']"
      ]
     },
     "execution_count": 48,
     "metadata": {},
     "output_type": "execute_result"
    }
   ],
   "source": [
    "TEST_DIR = './test/'\n",
    "os.listdir(TEST_DIR)"
   ]
  },
  {
   "cell_type": "code",
   "execution_count": 49,
   "metadata": {},
   "outputs": [
    {
     "data": {
      "text/plain": [
       "(7, 299, 299, 3)"
      ]
     },
     "execution_count": 49,
     "metadata": {},
     "output_type": "execute_result"
    }
   ],
   "source": [
    "\n",
    "test_files = [im for im in os.listdir(TEST_DIR) if im.endswith('jpg')]\n",
    "test = np.ndarray((len(test_files), ROWS, COLS, CHANNELS), dtype=np.uint8)\n",
    "\n",
    "for i, im in enumerate(test_files): \n",
    "    test[i] = read_image(TEST_DIR+im)\n",
    "\n",
    "test.shape"
   ]
  },
  {
   "cell_type": "code",
   "execution_count": 50,
   "metadata": {},
   "outputs": [
    {
     "name": "stdout",
     "output_type": "stream",
     "text": [
      "7/7 [==============================] - 1s\n"
     ]
    }
   ],
   "source": [
    "test_preds = model.predict(test, verbose=1)"
   ]
  },
  {
   "cell_type": "code",
   "execution_count": 51,
   "metadata": {},
   "outputs": [
    {
     "data": {
      "text/plain": [
       "array([[ 0.27315632],\n",
       "       [ 0.30323479],\n",
       "       [ 0.6812585 ],\n",
       "       [ 0.3893396 ],\n",
       "       [ 0.66151845],\n",
       "       [ 0.34654906],\n",
       "       [ 0.46705243]], dtype=float32)"
      ]
     },
     "execution_count": 51,
     "metadata": {},
     "output_type": "execute_result"
    }
   ],
   "source": [
    "test_preds"
   ]
  },
  {
   "cell_type": "code",
   "execution_count": 53,
   "metadata": {},
   "outputs": [
    {
     "data": {
      "text/html": [
       "<div>\n",
       "<style>\n",
       "    .dataframe thead tr:only-child th {\n",
       "        text-align: right;\n",
       "    }\n",
       "\n",
       "    .dataframe thead th {\n",
       "        text-align: left;\n",
       "    }\n",
       "\n",
       "    .dataframe tbody tr th {\n",
       "        vertical-align: top;\n",
       "    }\n",
       "</style>\n",
       "<table border=\"1\" class=\"dataframe\">\n",
       "  <thead>\n",
       "    <tr style=\"text-align: right;\">\n",
       "      <th></th>\n",
       "      <th>image</th>\n",
       "      <th>happy?</th>\n",
       "    </tr>\n",
       "  </thead>\n",
       "  <tbody>\n",
       "    <tr>\n",
       "      <th>0</th>\n",
       "      <td>happy-group.jpg</td>\n",
       "      <td>0.273156</td>\n",
       "    </tr>\n",
       "    <tr>\n",
       "      <th>1</th>\n",
       "      <td>sad-baby-crying.jpg</td>\n",
       "      <td>0.303235</td>\n",
       "    </tr>\n",
       "    <tr>\n",
       "      <th>2</th>\n",
       "      <td>sad-bearded-man.jpg</td>\n",
       "      <td>0.681258</td>\n",
       "    </tr>\n",
       "    <tr>\n",
       "      <th>3</th>\n",
       "      <td>happy-lady.jpg</td>\n",
       "      <td>0.389340</td>\n",
       "    </tr>\n",
       "    <tr>\n",
       "      <th>4</th>\n",
       "      <td>sad-kid-crying.jpg</td>\n",
       "      <td>0.661518</td>\n",
       "    </tr>\n",
       "  </tbody>\n",
       "</table>\n",
       "</div>"
      ],
      "text/plain": [
       "                 image    happy?\n",
       "0      happy-group.jpg  0.273156\n",
       "1  sad-baby-crying.jpg  0.303235\n",
       "2  sad-bearded-man.jpg  0.681258\n",
       "3       happy-lady.jpg  0.389340\n",
       "4   sad-kid-crying.jpg  0.661518"
      ]
     },
     "execution_count": 53,
     "metadata": {},
     "output_type": "execute_result"
    }
   ],
   "source": [
    "submission = pd.DataFrame(test_preds, columns=['happy?'])\n",
    "submission.insert(0, 'image', test_files)\n",
    "submission.head()"
   ]
  },
  {
   "cell_type": "markdown",
   "metadata": {},
   "source": [
    "So, as we see, the results are good. They would be even better if we train for more epochs. :-)"
   ]
  },
  {
   "cell_type": "markdown",
   "metadata": {},
   "source": [
    "**Let's save the model, so we could deploy the current version**"
   ]
  },
  {
   "cell_type": "code",
   "execution_count": 54,
   "metadata": {},
   "outputs": [],
   "source": [
    "model.save('../models/happy-or-not-v2-binary.h5')"
   ]
  },
  {
   "cell_type": "code",
   "execution_count": null,
   "metadata": {},
   "outputs": [],
   "source": []
  }
 ],
 "metadata": {
  "kernelspec": {
   "display_name": "Python 3",
   "language": "python",
   "name": "python3"
  },
  "language_info": {
   "codemirror_mode": {
    "name": "ipython",
    "version": 3
   },
   "file_extension": ".py",
   "mimetype": "text/x-python",
   "name": "python",
   "nbconvert_exporter": "python",
   "pygments_lexer": "ipython3",
   "version": "3.6.2"
  }
 },
 "nbformat": 4,
 "nbformat_minor": 2
}
